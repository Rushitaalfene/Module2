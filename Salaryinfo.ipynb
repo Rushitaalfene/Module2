{
 "cells": [
  {
   "cell_type": "code",
   "execution_count": 7,
   "id": "2bb19393-0654-4a04-8516-73843516cd2e",
   "metadata": {},
   "outputs": [
    {
     "name": "stderr",
     "output_type": "stream",
     "text": [
      "/var/folders/p3/zm_wcjsj7j17d8m0ldxdqrlm0000gn/T/ipykernel_78106/277386676.py:12: DtypeWarning: Columns (2,3,4,5) have mixed types. Specify dtype option on import or set low_memory=False.\n",
      "  salary_data = pd.read_csv('Total.csv')\n"
     ]
    },
    {
     "name": "stdout",
     "output_type": "stream",
     "text": [
      "        EmployeeName                                        JobTitle  \\\n",
      "0     NATHANIEL FORD  GENERAL MANAGER-METROPOLITAN TRANSIT AUTHORITY   \n",
      "1       GARY JIMENEZ                 CAPTAIN III (POLICE DEPARTMENT)   \n",
      "2     ALBERT PARDINI                 CAPTAIN III (POLICE DEPARTMENT)   \n",
      "3  CHRISTOPHER CHONG            WIRE ROPE CABLE MAINTENANCE MECHANIC   \n",
      "4    PATRICK GARDNER    DEPUTY CHIEF OF DEPARTMENT,(FIRE DEPARTMENT)   \n",
      "\n",
      "     BasePay OvertimePay   OtherPay      Benefits   TotalPay  \\\n",
      "0  167411.18         0.0  400184.25  Not Provided  567595.43   \n",
      "1  155966.02   245131.88  137811.38  Not Provided  538909.28   \n",
      "2  212739.13   106088.18    16452.6  Not Provided  335279.91   \n",
      "3    77916.0    56120.71   198306.9  Not Provided  332343.61   \n",
      "4   134401.6      9737.0  182234.59  Not Provided  326373.19   \n",
      "\n",
      "   TotalPayBenefits  Year  \n",
      "0         567595.43  2011  \n",
      "1         538909.28  2011  \n",
      "2         335279.91  2011  \n",
      "3         332343.61  2011  \n",
      "4         326373.19  2011  \n"
     ]
    },
    {
     "name": "stdin",
     "output_type": "stream",
     "text": [
      "Enter the employee's name:  GARY JIMENEZ\n"
     ]
    },
    {
     "name": "stdout",
     "output_type": "stream",
     "text": [
      "EmployeeName                           GARY JIMENEZ\n",
      "JobTitle            CAPTAIN III (POLICE DEPARTMENT)\n",
      "BasePay                                   155966.02\n",
      "OvertimePay                               245131.88\n",
      "OtherPay                                  137811.38\n",
      "Benefits                               Not Provided\n",
      "TotalPay                                  538909.28\n",
      "TotalPayBenefits                          538909.28\n",
      "Year                                           2011\n",
      "Name: 1, dtype: object\n"
     ]
    },
    {
     "name": "stderr",
     "output_type": "stream",
     "text": [
      "/var/folders/p3/zm_wcjsj7j17d8m0ldxdqrlm0000gn/T/ipykernel_78106/277386676.py:34: UserWarning: DataFrame columns are not unique, some columns will be omitted.\n",
      "  salary_dict = salary_data.set_index('EmployeeName').T.to_dict()\n"
     ]
    },
    {
     "name": "stdin",
     "output_type": "stream",
     "text": [
      "Enter the employee's name:  GARY JIMENEZ\n"
     ]
    },
    {
     "name": "stdout",
     "output_type": "stream",
     "text": [
      "{'JobTitle': 'CAPTAIN III (POLICE DEPARTMENT)', 'BasePay': 155966.02, 'OvertimePay': 245131.88, 'OtherPay': 137811.38, 'Benefits': 'Not Provided', 'TotalPay': 538909.28, 'TotalPayBenefits': 538909.28, 'Year': 2011}\n"
     ]
    },
    {
     "name": "stdin",
     "output_type": "stream",
     "text": [
      "Enter the employee's name:  GARY JIMENEZ\n"
     ]
    },
    {
     "name": "stdout",
     "output_type": "stream",
     "text": [
      "Employee details exported and zipped successfully: New_EmployeeProfile.zip\n"
     ]
    },
    {
     "name": "stderr",
     "output_type": "stream",
     "text": [
      "UsageError: Line magic function `%%R` not found.\n"
     ]
    }
   ],
   "source": [
    "import pandas as pd\n",
    "import numpy as np\n",
    "import csv\n",
    "import os\n",
    "import zipfile\n",
    "\n",
    "# Import Data\n",
    "try:\n",
    "    # Load the salary data \n",
    "    salary_data = pd.read_csv('Total.csv')\n",
    "    print(salary_data.head())  # Display the first few rows\n",
    "except FileNotFoundError as e:\n",
    "    print(f\"Error: {e}\")\n",
    "\n",
    "# Create Employee Function\n",
    "def get_employee_details(employee_name):\n",
    "    try:\n",
    "        # Search for the employee in the data\n",
    "        employee = salary_data[salary_data['EmployeeName'].str.lower() == employee_name.lower()]\n",
    "        if not employee.empty:\n",
    "            return employee.iloc[0]  # Return the first matching employee\n",
    "        else:\n",
    "            raise ValueError(\"Employee not found\")\n",
    "    except ValueError as e:\n",
    "        return str(e)\n",
    "\n",
    "employee_name = input(\"Enter the employee's name: \")\n",
    "print(get_employee_details(employee_name))\n",
    "\n",
    "# Data Processing with Dictionary\n",
    "salary_dict = salary_data.set_index('EmployeeName').T.to_dict()\n",
    "\n",
    "# Error Handling\n",
    "def get_employee_details_with_error_handling(employee_name):\n",
    "    try:\n",
    "        if not salary_dict:\n",
    "            raise Exception(\"Salary data is not loaded properly.\")\n",
    "        \n",
    "        employee = salary_dict.get(employee_name)\n",
    "        if employee is None:\n",
    "            raise ValueError(\"Employee not found in the dictionary.\")\n",
    "        \n",
    "        return employee\n",
    "    except Exception as e:\n",
    "        return f\"Error occurred: {e}\"\n",
    "\n",
    "employee_name = input(\"Enter the employee's name: \")\n",
    "print(get_employee_details_with_error_handling(employee_name))\n",
    "#Export Employee Details:\n",
    "def export_employee_to_csv(employee_name):\n",
    "    try:\n",
    "        # Fetch employee details from the dictionary\n",
    "        employee_details = get_employee_details_with_error_handling(employee_name)\n",
    "        if isinstance(employee_details, str) and \"Error\" in employee_details:\n",
    "            raise ValueError(employee_details)\n",
    "        \n",
    "        # Create a directory for the zipped file\n",
    "        folder_name = \"New_EmployeeProfile\"\n",
    "        if not os.path.exists(folder_name):\n",
    "            os.makedirs(folder_name)\n",
    "        \n",
    "        # Write employee details to CSV\n",
    "        csv_file = os.path.join(folder_name, f\"{employee_name}_details.csv\")\n",
    "        \n",
    "        # Open the CSV file for writing\n",
    "        with open(csv_file, mode='w', newline='') as file:\n",
    "            writer = csv.writer(file)\n",
    "            \n",
    "          \n",
    "            writer.writerow(employee_details.keys())   \n",
    "            writer.writerow(employee_details.values()) \n",
    "        \n",
    "        # Zip the CSV file\n",
    "        zip_file = folder_name + \".zip\"\n",
    "        with zipfile.ZipFile(zip_file, 'w') as zipf:\n",
    "            zipf.write(csv_file, os.path.basename(csv_file))\n",
    "        \n",
    "        print(f\"Employee details exported and zipped successfully: {zip_file}\")\n",
    "    \n",
    "    except Exception as e:\n",
    "        print(f\"Error occurred: {e}\")\n",
    "\n",
    "# Example usage\n",
    "employee_name = input(\"Enter the employee's name: \")\n",
    "export_employee_to_csv(employee_name)\n",
    "\n",
    "# Unzip and Display Data with R\n",
    "%reload_ext rpy2.ipython\n",
    "\n",
    "%%R\n",
    "library(unzip)\n",
    "\n",
    "# Specify the path to the ZIP file\n",
    "zip_file <- \"New_EmployeeProfile.zip\"\n",
    "\n",
    "# Unzip the file to the current working directory\n",
    "unzip(zip_file)\n",
    "\n",
    "\n"
   ]
  },
  {
   "cell_type": "code",
   "execution_count": null,
   "id": "13f5a0c3-2b95-4213-9f50-c26c49048bb4",
   "metadata": {},
   "outputs": [],
   "source": []
  },
  {
   "cell_type": "code",
   "execution_count": null,
   "id": "eb833506-3bf2-447b-90a6-31e1f7d11c46",
   "metadata": {},
   "outputs": [],
   "source": []
  },
  {
   "cell_type": "code",
   "execution_count": null,
   "id": "9650c0e7-2bc5-4dcb-920c-8a47d6c98617",
   "metadata": {},
   "outputs": [],
   "source": []
  }
 ],
 "metadata": {
  "kernelspec": {
   "display_name": "Python 3 (ipykernel)",
   "language": "python",
   "name": "python3"
  },
  "language_info": {
   "codemirror_mode": {
    "name": "ipython",
    "version": 3
   },
   "file_extension": ".py",
   "mimetype": "text/x-python",
   "name": "python",
   "nbconvert_exporter": "python",
   "pygments_lexer": "ipython3",
   "version": "3.12.4"
  }
 },
 "nbformat": 4,
 "nbformat_minor": 5
}
